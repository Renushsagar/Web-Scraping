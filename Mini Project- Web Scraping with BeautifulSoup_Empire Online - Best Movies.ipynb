{
 "cells": [
  {
   "cell_type": "code",
   "execution_count": 1,
   "id": "662c185a",
   "metadata": {},
   "outputs": [],
   "source": [
    "#Importing necessary libraries\n",
    "import requests\n",
    "from bs4 import BeautifulSoup\n",
    "import pandas as pd\n",
    "from tabulate import tabulate  # Import the tabulate module"
   ]
  },
  {
   "cell_type": "code",
   "execution_count": null,
   "id": "402f8722",
   "metadata": {},
   "outputs": [],
   "source": [
    "# Make an HTTP request to the website\n",
    "url = \"https://www.empireonline.com/movies/features/best-movies-2/\"  # Replace this with the actual URL\n",
    "response = requests.get(url)\n",
    "response"
   ]
  },
  {
   "cell_type": "code",
   "execution_count": null,
   "id": "b262a213",
   "metadata": {},
   "outputs": [],
   "source": [
    "# Create a list with a single element representing the response status code\n",
    "response_status = [response.status_code]"
   ]
  },
  {
   "cell_type": "code",
   "execution_count": null,
   "id": "5edda821",
   "metadata": {},
   "outputs": [],
   "source": [
    "# Create BeautifulSoup object\n",
    "soup = BeautifulSoup(response.text, 'html.parser')\n",
    "soup"
   ]
  },
  {
   "cell_type": "code",
   "execution_count": null,
   "id": "f2929c78",
   "metadata": {},
   "outputs": [],
   "source": [
    "# Iterate over the list\n",
    "for status_code in response_status:\n",
    "    if status_code == 200:\n",
    "        # Extract movie titles\n",
    "        movie_list = soup.find_all('h3', class_=\"listicleItem_listicle-item__title__hW_Kn\")\n",
    "        titles = [movie.text.strip() for movie in movie_list]\n",
    "\n",
    "        # Sort the titles in ascending order\n",
    "        titles.sort()\n",
    "\n",
    "        # Create a DataFrame from the titles\n",
    "        df = pd.DataFrame({\"Ranking\": range(1, len(titles) + 1), \"Title\": titles})\n",
    "\n",
    "        # Print the sorted titles with rankings in table format\n",
    "        print(tabulate(df, headers=\"keys\", tablefmt=\"grid\"))\n",
    "\n",
    "        # Save the DataFrame to a CSV file\n",
    "        df.to_csv(\"movie_rankings.csv\", index=False)\n",
    "        print(\"Data saved to 'movie_rankings.csv'\")\n",
    "    else:\n",
    "        # Print an error message for unsuccessful requests\n",
    "        print(f\"Request Error: {status_code}\")"
   ]
  },
  {
   "cell_type": "code",
   "execution_count": null,
   "id": "8d9dac0e",
   "metadata": {},
   "outputs": [],
   "source": []
  }
 ],
 "metadata": {
  "kernelspec": {
   "display_name": "Python 3 (ipykernel)",
   "language": "python",
   "name": "python3"
  },
  "language_info": {
   "codemirror_mode": {
    "name": "ipython",
    "version": 3
   },
   "file_extension": ".py",
   "mimetype": "text/x-python",
   "name": "python",
   "nbconvert_exporter": "python",
   "pygments_lexer": "ipython3",
   "version": "3.10.9"
  }
 },
 "nbformat": 4,
 "nbformat_minor": 5
}
